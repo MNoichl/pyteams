{
 "cells": [
  {
   "cell_type": "code",
   "execution_count": null,
   "metadata": {},
   "outputs": [],
   "source": [
    "# !pip install mesa\n",
    "\n",
    "import pandas as pd\n",
    "import numpy as np\n",
    "import seaborn as sns\n",
    "import matplotlib.pyplot as plt\n",
    "import tqdm\n",
    "\n",
    "%load_ext nb_black"
   ]
  },
  {
   "cell_type": "code",
   "execution_count": null,
   "metadata": {},
   "outputs": [],
   "source": [
    "# https://mesa.readthedocs.io/en/stable/"
   ]
  },
  {
   "cell_type": "markdown",
   "metadata": {},
   "source": [
    "## To-Do:\n",
    "\n",
    "* Optimierung: kriegen wirs besser hin. Benchmarks in Netlogo? \n",
    "* Faithfulness: Inwieweit implementieren wir eigentlich dasselbe wie in der Referenz/im Originalpaper? Antwort: garnicht, Strategien sind GEWICHTE!\n",
    "* Agent.py https://agentpy.readthedocs.io/en/latest/\n",
    "* Syntax für Gruppen? Gruppensyntax als Klasse? (Visualisierung als Methode)\n",
    "* Visualierung: phylogenetic tree, bubblechart, treemap\n",
    "* **Gruppen umsetzen** \n",
    "* UMAP embedding von Strategien, Visualisierung Bokeh, Faerun?\n",
    "* Evaluierungsfunktionen, visualisierungen\n",
    "* ABMs in R?\n",
    "* Gitlab der Uni verwenden? \n",
    "* Package-integration mit Mesa recherchieren\n",
    "* Spione\n",
    "* bayesian updating statt vektor-vorraussage\n",
    "* https://www.python-graph-gallery.com/circular-packing-several-levels-of-hierarchy\n"
   ]
  },
  {
   "cell_type": "code",
   "execution_count": null,
   "metadata": {},
   "outputs": [],
   "source": [
    "# Gruppenstruktur:\n",
    "\n",
    "# [[[a, b], [c, d]], e, f]"
   ]
  },
  {
   "cell_type": "code",
   "execution_count": null,
   "metadata": {},
   "outputs": [],
   "source": [
    "# implement an artificial history.\n",
    "# find out whether there is a running tally for the strategies, or whether they are just"
   ]
  },
  {
   "cell_type": "code",
   "execution_count": null,
   "metadata": {},
   "outputs": [],
   "source": [
    "from mesa import Agent, Model\n",
    "from mesa.time import RandomActivation\n",
    "from mesa.space import MultiGrid\n",
    "from mesa.datacollection import DataCollector\n",
    "\n",
    "\n",
    "class MyAgent(Agent):\n",
    "    def __init__(\n",
    "        self,\n",
    "        name,\n",
    "        model,\n",
    "        memory=10,\n",
    "        n_strategies=10,\n",
    "        threshold=50,\n",
    "        history=[0, 0],\n",
    "    ):\n",
    "\n",
    "        super().__init__(name, model)\n",
    "\n",
    "        self.name = name\n",
    "        self.memory = memory\n",
    "        self.n_strategies = n_strategies\n",
    "        self.threshold = threshold\n",
    "        self.history = history\n",
    "        self.strategies = [self.random_strategy() for x in range(0, n_strategies)]\n",
    "        self.best_strategy = self.strategies[0]\n",
    "        self.best_strategy_no = 0\n",
    "        self.update_strategies()\n",
    "\n",
    "        current_prediction = self.predict_attendance(\n",
    "            self.best_strategy, self.model.history[-self.memory * 2 :]\n",
    "        )\n",
    "        #         print(current_prediction) # predictions can be negative...\n",
    "\n",
    "        if current_prediction <= threshold:\n",
    "            self.should_i_attend = True\n",
    "        else:\n",
    "            self.should_i_attend = False\n",
    "\n",
    "    #         print(self.random_strategy(self.memory))\n",
    "\n",
    "    def random_strategy(self):\n",
    "        return list(1 - np.random.rand(self.memory) * 2)\n",
    "\n",
    "    def predict_attendance(self, strategy, subhistory):\n",
    "        return 100 * strategy[0] + np.sum(\n",
    "            [weight * week for weight, week in zip(strategy, subhistory)]\n",
    "        )\n",
    "\n",
    "    def update_strategies(self):\n",
    "        best_score = self.memory * 100 + 1\n",
    "        sub_history = self.model.history[-self.memory * 2 :]\n",
    "        for strategy_no, this_strategy in enumerate(self.strategies):\n",
    "            #             print(\"strategy_n \", strategy_no, \"\\n\")\n",
    "            score = 0\n",
    "\n",
    "            for week in range(0, self.memory):  # bit unpythonic?\n",
    "                prediction = self.predict_attendance(\n",
    "                    this_strategy, sub_history[week : (week + self.memory)]\n",
    "                )\n",
    "                score = score + np.abs(sub_history[week - 1] - prediction)\n",
    "            #                 print(\"this_strategies_score\", score)\n",
    "\n",
    "            if score <= best_score:\n",
    "                best_score = score\n",
    "                self.best_strategy = this_strategy\n",
    "                self.best_strategy_no = strategy_no\n",
    "\n",
    "    #             print(\"best_strategy \", self.best_strategy_no)\n",
    "\n",
    "    #             return self\n",
    "\n",
    "    def step(self):\n",
    "\n",
    "        #         print(\"agent name \", self.name)\n",
    "\n",
    "        self.update_strategies()\n",
    "        #         if self.name == 0:\n",
    "        #             print(self.best_strategy_no)\n",
    "        #             print(self.best_strategy)\n",
    "        #         print(self.model.history[-self.memory :])\n",
    "        #         print(self.best_strategy_no)\n",
    "\n",
    "        current_prediction = self.predict_attendance(\n",
    "            self.best_strategy, self.model.history[-self.memory * 2 :]\n",
    "        )\n",
    "        if current_prediction <= self.threshold:\n",
    "            self.should_i_attend = True\n",
    "        else:\n",
    "            self.should_i_attend = False\n",
    "\n",
    "\n",
    "class MyModel(Model):\n",
    "    def __init__(self, n_agents, memory, n_strategies, threshold):\n",
    "        super().__init__()\n",
    "        self.schedule = RandomActivation(self)\n",
    "\n",
    "        self.history = list(np.random.rand(memory * 2) * 100)\n",
    "        self.attendance = self.history[-1]\n",
    "\n",
    "        for i in range(n_agents):\n",
    "            a = MyAgent(i, self, memory, n_strategies, threshold, self.history)\n",
    "            self.schedule.add(a)\n",
    "        print(\"set up\")\n",
    "\n",
    "        agent_reporters = {\n",
    "            \"should_i_attend\": lambda a: getattr(a, \"should_i_attend\", None),\n",
    "            \"best_strategy\": lambda a: getattr(a, \"best_strategy\", None),\n",
    "            \"best_strategy_no\": lambda a: getattr(a, \"best_strategy_no\", None),\n",
    "        }\n",
    "\n",
    "        model_reporters = {\n",
    "            \"attendance\": lambda a: getattr(a, \"attendance\", None),\n",
    "        }\n",
    "\n",
    "        self.datacollector = DataCollector(\n",
    "            model_reporters=model_reporters, agent_reporters=agent_reporters\n",
    "        )\n",
    "\n",
    "    def step(self):\n",
    "        self.attendance = np.sum(\n",
    "            [int(a.should_i_attend) for a in model.schedule.agents]\n",
    "        )\n",
    "\n",
    "        self.history.append(self.attendance)\n",
    "        self.datacollector.collect(self)\n",
    "        self.schedule.step()\n",
    "\n",
    "\n",
    "model = MyModel(100, memory=5, n_strategies=10, threshold=60)\n",
    "\n",
    "\n",
    "# Do the run:\n",
    "for t in tqdm.tqdm_notebook(range(400)):\n",
    "    model.step()"
   ]
  },
  {
   "cell_type": "code",
   "execution_count": null,
   "metadata": {},
   "outputs": [],
   "source": [
    "model_df = model.datacollector.get_model_vars_dataframe()\n",
    "agent_df = model.datacollector.get_agent_vars_dataframe()"
   ]
  },
  {
   "cell_type": "code",
   "execution_count": null,
   "metadata": {
    "scrolled": true
   },
   "outputs": [],
   "source": [
    "fig, ax = plt.subplots(figsize=(16, 6))\n",
    "plt.style.use(\"opinions.mplstyle\")\n",
    "plt.plot(model_df[\"attendance\"], linewidth=1.6, c=\"#ab0b00\", alpha=1)\n",
    "plt.xlabel(\"Time\")\n",
    "plt.ylabel(\"Attendence\")\n",
    "plt.title(\"Attendence in El Farol\")\n",
    "plt.ylim(0,100)\n",
    "# fig.suptitle(\"Attendence in El Farol\")\n"
   ]
  },
  {
   "cell_type": "code",
   "execution_count": null,
   "metadata": {},
   "outputs": [],
   "source": [
    "agent_df"
   ]
  },
  {
   "cell_type": "code",
   "execution_count": null,
   "metadata": {},
   "outputs": [],
   "source": [
    "agent_df[\"agent\"] = agent_df.index.get_level_values(\"AgentID\")\n",
    "agent_df.droplevel(1)"
   ]
  },
  {
   "cell_type": "code",
   "execution_count": null,
   "metadata": {},
   "outputs": [],
   "source": [
    "# agent_df = agent_df.dropna(subset=[\"selected_strategy\"])"
   ]
  },
  {
   "cell_type": "code",
   "execution_count": null,
   "metadata": {},
   "outputs": [],
   "source": [
    "# agent_df"
   ]
  },
  {
   "cell_type": "code",
   "execution_count": null,
   "metadata": {},
   "outputs": [],
   "source": [
    "agent_df[\"strat_key\"] = [\n",
    "    x + \"_\" + y\n",
    "    for x, y in zip(\n",
    "        agent_df[\"agent\"].astype(str),\n",
    "        agent_df[\"best_strategy_no\"].astype(int).astype(str),\n",
    "    )\n",
    "]\n",
    "\n"
   ]
  },
  {
   "cell_type": "code",
   "execution_count": null,
   "metadata": {},
   "outputs": [],
   "source": [
    "agent_df"
   ]
  },
  {
   "cell_type": "code",
   "execution_count": null,
   "metadata": {},
   "outputs": [],
   "source": [
    "# strat_played = []\n",
    "# for ix, row in agent_df.iterrows():\n",
    "#     strat_played.append(row[\"my_strategies\"][int(row[\"best_strategy_no\"]), :])\n",
    "agent_df[\"strat_played\"] = agent_df[\"best_strategy\"]"
   ]
  },
  {
   "cell_type": "code",
   "execution_count": null,
   "metadata": {},
   "outputs": [],
   "source": [
    "played_counts = (\n",
    "    agent_df[[\"strat_key\", \"strat_played\"]]\n",
    "    .groupby([\"strat_key\"])[\"strat_key\"]\n",
    "    .transform(\"count\")\n",
    ")\n",
    "agent_df[\"played_counts\"] = played_counts"
   ]
  },
  {
   "cell_type": "code",
   "execution_count": null,
   "metadata": {},
   "outputs": [],
   "source": [
    "used_strategy_df = agent_df.drop_duplicates(subset=[\"strat_key\"])"
   ]
  },
  {
   "cell_type": "code",
   "execution_count": null,
   "metadata": {},
   "outputs": [],
   "source": [
    "used_strategy_array = np.vstack([x for x in used_strategy_df[\"strat_played\"]])"
   ]
  },
  {
   "cell_type": "code",
   "execution_count": null,
   "metadata": {},
   "outputs": [],
   "source": [
    "used_strategy_df"
   ]
  },
  {
   "cell_type": "code",
   "execution_count": null,
   "metadata": {},
   "outputs": [],
   "source": [
    "used_strategy_df[\"best_strategy_no\"].value_counts()"
   ]
  },
  {
   "cell_type": "code",
   "execution_count": null,
   "metadata": {},
   "outputs": [],
   "source": [
    "import umap\n",
    "reducer = umap.UMAP(metric = 'cosine',n_neighbors=40, verbose= True)\n",
    "\n",
    "embedding = reducer.fit_transform(used_strategy_array)\n"
   ]
  },
  {
   "cell_type": "code",
   "execution_count": null,
   "metadata": {},
   "outputs": [],
   "source": [
    "plt.style.use(\"opinions.mplstyle\")\n",
    "fig, ax = plt.subplots(figsize=(9, 9))\n",
    "\n",
    "plt.scatter(\n",
    "    embedding[:, 0],\n",
    "    embedding[:, 1],\n",
    "    c=used_strategy_df[\"played_counts\"],\n",
    "    s=used_strategy_df[\"played_counts\"],\n",
    "    cmap=\"viridis\",\n",
    "    alpha=0.5,\n",
    ")"
   ]
  },
  {
   "cell_type": "code",
   "execution_count": null,
   "metadata": {},
   "outputs": [],
   "source": [
    "!rm -rf strategy_heatmaps\n",
    "!mkdir strategy_heatmaps"
   ]
  },
  {
   "cell_type": "code",
   "execution_count": null,
   "metadata": {},
   "outputs": [],
   "source": [
    "used_strategy_array.shape"
   ]
  },
  {
   "cell_type": "code",
   "execution_count": null,
   "metadata": {},
   "outputs": [],
   "source": [
    "import cmocean\n",
    "\n",
    "for ix, row in tqdm.tqdm_notebook(enumerate(used_strategy_array)):\n",
    "\n",
    "    fig, ax = plt.subplots(figsize=(5, 0.5))\n",
    "\n",
    "    sns.heatmap(row.reshape(1, -1), cmap=cmocean.cm.solar, cbar=False)\n",
    "    ax.axes.get_xaxis().set_visible(False)\n",
    "    ax.axes.get_yaxis().set_visible(False)\n",
    "    plt.savefig(\n",
    "        \"strategy_heatmaps\" + \"/\" + used_strategy_df[\"strat_key\"].iloc[ix] + \".png\"\n",
    "    )\n",
    "    plt.close()\n",
    "#     print(\"strategy_heatmaps\" + \"/\" + used_strategy_df[\"strat_key\"].iloc[ix] + \".png\")"
   ]
  },
  {
   "cell_type": "code",
   "execution_count": null,
   "metadata": {},
   "outputs": [],
   "source": [
    "# used_strategy_df['strat_key']"
   ]
  },
  {
   "cell_type": "code",
   "execution_count": null,
   "metadata": {},
   "outputs": [],
   "source": [
    "from bokeh.plotting import figure, output_file, show, ColumnDataSource\n",
    "from bokeh.models import HoverTool\n",
    "from bokeh.models import LinearColorMapper\n",
    "\n",
    "color_mapper = LinearColorMapper(\n",
    "    palette=\"Magma256\",\n",
    "    low=min(used_strategy_df[\"played_counts\"]),\n",
    "    high=max(used_strategy_df[\"played_counts\"]),\n",
    ")\n",
    "\n",
    "\n",
    "output_file(\"toolbar.html\")\n",
    "\n",
    "source = ColumnDataSource(\n",
    "    data=dict(\n",
    "        x=embedding[:, 0],\n",
    "        y=embedding[:, 1],\n",
    "        imgs=[\n",
    "            \"strategy_heatmaps\" + \"/\" + x + \".png\"\n",
    "            for x in used_strategy_df[\"strat_key\"]\n",
    "        ],\n",
    "        s=(used_strategy_df[\"played_counts\"] / 10) + 10,\n",
    "        c=used_strategy_df[\"played_counts\"],\n",
    "    )\n",
    ")\n",
    "\n",
    "hover = HoverTool(\n",
    "    tooltips=\"\"\"\n",
    "<div>\n",
    "        <img\n",
    "            src=\"@imgs\" alt=\"@imgs\" \n",
    "            style=\"float: left; margin: 0px 15px 15px 0px;\"\n",
    "            border=\"2\"\n",
    "        ></img>\n",
    "</div>\n",
    "\"\"\"\n",
    ")\n",
    "\n",
    "p = figure(\n",
    "    plot_width=900,\n",
    "    plot_height=900,\n",
    "    tools=[hover],\n",
    "    title=\"Mouse over the dots\",\n",
    ")\n",
    "\n",
    "p.circle(\n",
    "    \"x\",\n",
    "    \"y\",\n",
    "    size=\"s\",\n",
    "    #     color=\"c\",\n",
    "    alpha=0.7,\n",
    "    fill_color={\"field\": \"c\", \"transform\": color_mapper},\n",
    "    source=source,\n",
    ")\n",
    "\n",
    "show(p)"
   ]
  },
  {
   "cell_type": "code",
   "execution_count": null,
   "metadata": {},
   "outputs": [],
   "source": []
  },
  {
   "cell_type": "code",
   "execution_count": null,
   "metadata": {},
   "outputs": [],
   "source": [
    "def moving_average(x, w):\n",
    "    return np.convolve(x, np.ones(w), \"valid\") / w\n",
    "\n",
    "\n",
    "fig, ax = plt.subplots(figsize=(12, 6))\n",
    "plt.style.use(\"opinions.mplstyle\")\n",
    "for agent_no in range(0, 10):\n",
    "    agent_attendance = agent_df.iloc[\n",
    "        agent_df.index.get_level_values(\"AgentID\") == agent_no\n",
    "    ][\"should_i_attend\"].astype(\n",
    "        int\n",
    "    )  # [0:200]\n",
    "\n",
    "    plt.plot(moving_average(agent_attendance, 20), alpha=0.3, c=\"grey\")"
   ]
  },
  {
   "cell_type": "code",
   "execution_count": null,
   "metadata": {},
   "outputs": [],
   "source": [
    "list(range(0, 10))[-1]"
   ]
  },
  {
   "cell_type": "code",
   "execution_count": null,
   "metadata": {},
   "outputs": [],
   "source": []
  }
 ],
 "metadata": {
  "kernelspec": {
   "display_name": "Python 3",
   "language": "python",
   "name": "python3"
  },
  "language_info": {
   "codemirror_mode": {
    "name": "ipython",
    "version": 3
   },
   "file_extension": ".py",
   "mimetype": "text/x-python",
   "name": "python",
   "nbconvert_exporter": "python",
   "pygments_lexer": "ipython3",
   "version": "3.7.6"
  },
  "varInspector": {
   "cols": {
    "lenName": 16,
    "lenType": 16,
    "lenVar": 40
   },
   "kernels_config": {
    "python": {
     "delete_cmd_postfix": "",
     "delete_cmd_prefix": "del ",
     "library": "var_list.py",
     "varRefreshCmd": "print(var_dic_list())"
    },
    "r": {
     "delete_cmd_postfix": ") ",
     "delete_cmd_prefix": "rm(",
     "library": "var_list.r",
     "varRefreshCmd": "cat(var_dic_list()) "
    }
   },
   "types_to_exclude": [
    "module",
    "function",
    "builtin_function_or_method",
    "instance",
    "_Feature"
   ],
   "window_display": false
  }
 },
 "nbformat": 4,
 "nbformat_minor": 4
}
