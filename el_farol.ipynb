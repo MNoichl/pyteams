{
 "cells": [
  {
   "cell_type": "code",
   "execution_count": null,
   "metadata": {},
   "outputs": [],
   "source": [
    "# !pip install mesa\n",
    "# !pip install nb_black\n",
    "\n",
    "import pandas as pd\n",
    "import numpy as np\n",
    "import seaborn as sns\n",
    "import matplotlib.pyplot as plt\n",
    "import tqdm\n",
    "\n",
    "%reload_ext nb_black"
   ]
  },
  {
   "cell_type": "code",
   "execution_count": null,
   "metadata": {},
   "outputs": [],
   "source": [
    "# https://mesa.readthedocs.io/en/stable/"
   ]
  },
  {
   "cell_type": "markdown",
   "metadata": {},
   "source": [
    "## To-Do:\n",
    "\n",
    "* Optimierung: kriegen wirs besser hin. Benchmarks in Netlogo? \n",
    "* Agent.py https://agentpy.readthedocs.io/en/latest/\n",
    "* Syntax für Gruppen? Gruppensyntax als Klasse? (Visualisierung als Methode)\n",
    "* Visualierung: phylogenetic tree, bubblechart, treemap\n",
    "* **Gruppen umsetzen** \n",
    "* UMAP embedding von Strategien, Visualisierung Bokeh, Faerun?\n",
    "* Evaluierungsfunktionen, visualisierungen\n",
    "* ABMs in R?\n",
    "\n",
    "\n"
   ]
  },
  {
   "cell_type": "code",
   "execution_count": null,
   "metadata": {},
   "outputs": [],
   "source": [
    "# Gruppenstruktur:\n",
    "\n",
    "[\n",
    "[\n",
    "[a,b],\n",
    "[c,d]\n",
    "],\n",
    "e,\n",
    "f]"
   ]
  },
  {
   "cell_type": "code",
   "execution_count": null,
   "metadata": {},
   "outputs": [],
   "source": []
  },
  {
   "cell_type": "code",
   "execution_count": 43,
   "metadata": {},
   "outputs": [
    {
     "data": {
      "application/vnd.jupyter.widget-view+json": {
       "model_id": "0de0e77d10da44ef826ab340530cb679",
       "version_major": 2,
       "version_minor": 0
      },
      "text/plain": [
       "  0%|          | 0/1 [00:00<?, ?it/s]"
      ]
     },
     "metadata": {},
     "output_type": "display_data"
    },
    {
     "name": "stdout",
     "output_type": "stream",
     "text": [
      "Hi, i am 3!\n",
      "True\n",
      "[<__main__.MyAgent object at 0x0000018F3714F0A0>] []\n",
      "Hi, i am 2!\n",
      "False\n",
      "[] [<__main__.MyAgent object at 0x0000018F3714F6A0>]\n",
      "Hi, i am 0!\n",
      "True\n",
      "[<__main__.MyAgent object at 0x0000018F3714F610>] []\n",
      "Hi, i am 8!\n",
      "True\n",
      "[<__main__.MyAgent object at 0x0000018F3714F850>] []\n",
      "Hi, i am 1!\n",
      "False\n",
      "[] [<__main__.MyAgent object at 0x0000018F3714F670>]\n",
      "Hi, i am 6!\n",
      "True\n",
      "[<__main__.MyAgent object at 0x0000018F3714F820>] []\n",
      "Hi, i am 4!\n",
      "False\n",
      "[] [<__main__.MyAgent object at 0x0000018F3714F700>]\n",
      "Hi, i am 5!\n",
      "True\n",
      "[<__main__.MyAgent object at 0x0000018F3714F7C0>] []\n",
      "Hi, i am 9!\n",
      "False\n",
      "[] [<__main__.MyAgent object at 0x0000018F3714F880>]\n",
      "Hi, i am 7!\n",
      "False\n",
      "[] [<__main__.MyAgent object at 0x0000018F3714F7F0>]\n"
     ]
    },
    {
     "data": {
      "application/javascript": [
       "\n",
       "            setTimeout(function() {\n",
       "                var nbb_cell_id = 43;\n",
       "                var nbb_unformatted_code = \"from mesa import Agent, Model\\nfrom mesa.time import RandomActivation\\nfrom mesa.space import MultiGrid\\nfrom mesa.datacollection import DataCollector\\n\\n\\nclass MyAgent(Agent):\\n    def __init__(self, name, model, memory=10, n_strategies=10, threshold=50):\\n\\n        super().__init__(name, model)\\n\\n        self.name = name\\n        self.memory = memory\\n        self.n_strategies = n_strategies\\n        self.threshold = threshold\\n\\n        self.my_strategies = np.random.rand(n_strategies, memory + 1)\\n\\n        self.should_i_attend = np.random.rand() > self.threshold  # set first attendance\\n        self.my_attendance = [self.should_i_attend]\\n\\n    # To get teams, instantiate new actor, maybe with different properties & slower updating,\\n    # and set all contributing actors to in_team (which can be false or id of team) which makes them\\n    # update according to the team decision.\\n\\n    def step(self):\\n\\n        history = list(\\n            +self.model.datacollector.get_model_vars_dataframe()[  # innefficient\\n                \\\"attendance\\\"\\n            ]\\n        )\\n        self.my_attendance.append(self.should_i_attend)\\n\\n        best_strategy = self.select_strategy(\\n            self.my_attendance, self.my_strategies, history\\n        )\\n\\n        prediction = self.my_strategies[\\n            best_strategy, -1\\n        ]  # get the prediction (last column) from the stategy that performed best.\\n\\n        self.should_i_attend = prediction < self.threshold  # strict? (<,<=,)\\n        self.my_attendance.append(self.should_i_attend)\\n\\n        # print(\\\"Hi, i am\\\" + str(self.name) + \\\"!\\\")\\n        # print(str(self.should_i_attend))\\n        # groups = defaultdict(list)\\n        # groupA = []\\n        # groupB = []\\n        # if self.should_i_attend:\\n        #    groupA.append(self)\\n        # else:\\n        #    groupB.append(self)\\n\\n        # print(groupA, groupB)\\n        self.assign_group()\\n\\n    def select_strategy(self, my_attendance, strategies, history):\\n        memory_to_use = np.min((len(history), self.memory))\\n        strategy_window = strategies[:, -(memory_to_use + 1) : -1]\\n\\n        #       compute error of strategies over the relevant timespan:\\n        #       This currently assumes perfect information Change!\\n\\n        history_window = np.array(\\n            history[-memory_to_use:] * strategies.shape[0]\\n        ).reshape(strategy_window.shape)\\n\\n        mean_predictions = np.mean(\\n            np.abs(history_window - strategy_window), axis=1,\\n        ).reshape(-1, 1)\\n        #         print(mean_predictions.shape)\\n        #       select strategy with minimal error:\\n        return np.argmin(mean_predictions)\\n\\n    def assign_group(self):\\n\\n        print(\\\"Hi, i am \\\" + str(self.name) + \\\"!\\\")\\n        print(str(self.should_i_attend))\\n        # groups = defaultdict(list)\\n        groupA = []\\n        groupB = []\\n        if self.should_i_attend:\\n            groupA.append(self)\\n        else:\\n            groupB.append(self)\\n        print(groupA, groupB)\\n    \\n\\nclass MyModel(Model):\\n    def __init__(self, n_agents, memory, n_strategies, threshold):\\n        super().__init__()\\n        self.schedule = RandomActivation(self)\\n\\n        self.attendance = 1\\n        for i in range(n_agents):\\n            a = MyAgent(i, self, memory, n_strategies, threshold)\\n            self.schedule.add(a)\\n        #             coords = (self.random.randrange(0, 10), self.random.randrange(0, 10))\\n        #             self.grid.place_agent(a, coords)\\n\\n        agent_reporters = {\\n            \\\"should_i_attend\\\": lambda a: getattr(a, \\\"should_i_attend\\\", None),\\n        }\\n\\n        model_reporters = {\\n            \\\"attendance\\\": lambda a: getattr(a, \\\"attendance\\\", None),\\n        }\\n\\n        self.datacollector = DataCollector(\\n            model_reporters=model_reporters, agent_reporters=agent_reporters\\n        )\\n\\n    def step(self):\\n\\n        self.attendance = np.mean(\\n            [int(a.should_i_attend) for a in model.schedule.agents]\\n        )\\n\\n        self.datacollector.collect(self)\\n        self.schedule.step()\\n\\n\\nmodel = MyModel(10, memory=30, n_strategies=2, threshold=0.5)\\n\\n\\n# Do the run:\\nfor t in tqdm.notebook.tqdm(range(1)):\\n    model.step()\";\n",
       "                var nbb_formatted_code = \"from mesa import Agent, Model\\nfrom mesa.time import RandomActivation\\nfrom mesa.space import MultiGrid\\nfrom mesa.datacollection import DataCollector\\n\\n\\nclass MyAgent(Agent):\\n    def __init__(self, name, model, memory=10, n_strategies=10, threshold=50):\\n\\n        super().__init__(name, model)\\n\\n        self.name = name\\n        self.memory = memory\\n        self.n_strategies = n_strategies\\n        self.threshold = threshold\\n\\n        self.my_strategies = np.random.rand(n_strategies, memory + 1)\\n\\n        self.should_i_attend = np.random.rand() > self.threshold  # set first attendance\\n        self.my_attendance = [self.should_i_attend]\\n\\n    # To get teams, instantiate new actor, maybe with different properties & slower updating,\\n    # and set all contributing actors to in_team (which can be false or id of team) which makes them\\n    # update according to the team decision.\\n\\n    def step(self):\\n\\n        history = list(\\n            +self.model.datacollector.get_model_vars_dataframe()[  # innefficient\\n                \\\"attendance\\\"\\n            ]\\n        )\\n        self.my_attendance.append(self.should_i_attend)\\n\\n        best_strategy = self.select_strategy(\\n            self.my_attendance, self.my_strategies, history\\n        )\\n\\n        prediction = self.my_strategies[\\n            best_strategy, -1\\n        ]  # get the prediction (last column) from the stategy that performed best.\\n\\n        self.should_i_attend = prediction < self.threshold  # strict? (<,<=,)\\n        self.my_attendance.append(self.should_i_attend)\\n\\n        # print(\\\"Hi, i am\\\" + str(self.name) + \\\"!\\\")\\n        # print(str(self.should_i_attend))\\n        # groups = defaultdict(list)\\n        # groupA = []\\n        # groupB = []\\n        # if self.should_i_attend:\\n        #    groupA.append(self)\\n        # else:\\n        #    groupB.append(self)\\n\\n        # print(groupA, groupB)\\n        self.assign_group()\\n\\n    def select_strategy(self, my_attendance, strategies, history):\\n        memory_to_use = np.min((len(history), self.memory))\\n        strategy_window = strategies[:, -(memory_to_use + 1) : -1]\\n\\n        #       compute error of strategies over the relevant timespan:\\n        #       This currently assumes perfect information Change!\\n\\n        history_window = np.array(\\n            history[-memory_to_use:] * strategies.shape[0]\\n        ).reshape(strategy_window.shape)\\n\\n        mean_predictions = np.mean(\\n            np.abs(history_window - strategy_window), axis=1,\\n        ).reshape(-1, 1)\\n        #         print(mean_predictions.shape)\\n        #       select strategy with minimal error:\\n        return np.argmin(mean_predictions)\\n\\n    def assign_group(self):\\n\\n        print(\\\"Hi, i am \\\" + str(self.name) + \\\"!\\\")\\n        print(str(self.should_i_attend))\\n        # groups = defaultdict(list)\\n        groupA = []\\n        groupB = []\\n        if self.should_i_attend:\\n            groupA.append(self)\\n        else:\\n            groupB.append(self)\\n        print(groupA, groupB)\\n\\n\\nclass MyModel(Model):\\n    def __init__(self, n_agents, memory, n_strategies, threshold):\\n        super().__init__()\\n        self.schedule = RandomActivation(self)\\n\\n        self.attendance = 1\\n        for i in range(n_agents):\\n            a = MyAgent(i, self, memory, n_strategies, threshold)\\n            self.schedule.add(a)\\n        #             coords = (self.random.randrange(0, 10), self.random.randrange(0, 10))\\n        #             self.grid.place_agent(a, coords)\\n\\n        agent_reporters = {\\n            \\\"should_i_attend\\\": lambda a: getattr(a, \\\"should_i_attend\\\", None),\\n        }\\n\\n        model_reporters = {\\n            \\\"attendance\\\": lambda a: getattr(a, \\\"attendance\\\", None),\\n        }\\n\\n        self.datacollector = DataCollector(\\n            model_reporters=model_reporters, agent_reporters=agent_reporters\\n        )\\n\\n    def step(self):\\n\\n        self.attendance = np.mean(\\n            [int(a.should_i_attend) for a in model.schedule.agents]\\n        )\\n\\n        self.datacollector.collect(self)\\n        self.schedule.step()\\n\\n\\nmodel = MyModel(10, memory=30, n_strategies=2, threshold=0.5)\\n\\n\\n# Do the run:\\nfor t in tqdm.notebook.tqdm(range(1)):\\n    model.step()\";\n",
       "                var nbb_cells = Jupyter.notebook.get_cells();\n",
       "                for (var i = 0; i < nbb_cells.length; ++i) {\n",
       "                    if (nbb_cells[i].input_prompt_number == nbb_cell_id) {\n",
       "                        if (nbb_cells[i].get_text() == nbb_unformatted_code) {\n",
       "                             nbb_cells[i].set_text(nbb_formatted_code);\n",
       "                        }\n",
       "                        break;\n",
       "                    }\n",
       "                }\n",
       "            }, 500);\n",
       "            "
      ],
      "text/plain": [
       "<IPython.core.display.Javascript object>"
      ]
     },
     "metadata": {},
     "output_type": "display_data"
    },
    {
     "data": {
      "application/javascript": [
       "\n",
       "            setTimeout(function() {\n",
       "                var nbb_cell_id = 43;\n",
       "                var nbb_unformatted_code = \"from mesa import Agent, Model\\nfrom mesa.time import RandomActivation\\nfrom mesa.space import MultiGrid\\nfrom mesa.datacollection import DataCollector\\n\\n\\nclass MyAgent(Agent):\\n    def __init__(self, name, model, memory=10, n_strategies=10, threshold=50):\\n\\n        super().__init__(name, model)\\n\\n        self.name = name\\n        self.memory = memory\\n        self.n_strategies = n_strategies\\n        self.threshold = threshold\\n\\n        self.my_strategies = np.random.rand(n_strategies, memory + 1)\\n\\n        self.should_i_attend = np.random.rand() > self.threshold  # set first attendance\\n        self.my_attendance = [self.should_i_attend]\\n\\n    # To get teams, instantiate new actor, maybe with different properties & slower updating,\\n    # and set all contributing actors to in_team (which can be false or id of team) which makes them\\n    # update according to the team decision.\\n\\n    def step(self):\\n\\n        history = list(\\n            +self.model.datacollector.get_model_vars_dataframe()[  # innefficient\\n                \\\"attendance\\\"\\n            ]\\n        )\\n        self.my_attendance.append(self.should_i_attend)\\n\\n        best_strategy = self.select_strategy(\\n            self.my_attendance, self.my_strategies, history\\n        )\\n\\n        prediction = self.my_strategies[\\n            best_strategy, -1\\n        ]  # get the prediction (last column) from the stategy that performed best.\\n\\n        self.should_i_attend = prediction < self.threshold  # strict? (<,<=,)\\n        self.my_attendance.append(self.should_i_attend)\\n\\n        # print(\\\"Hi, i am\\\" + str(self.name) + \\\"!\\\")\\n        # print(str(self.should_i_attend))\\n        # groups = defaultdict(list)\\n        # groupA = []\\n        # groupB = []\\n        # if self.should_i_attend:\\n        #    groupA.append(self)\\n        # else:\\n        #    groupB.append(self)\\n\\n        # print(groupA, groupB)\\n        self.assign_group()\\n\\n    def select_strategy(self, my_attendance, strategies, history):\\n        memory_to_use = np.min((len(history), self.memory))\\n        strategy_window = strategies[:, -(memory_to_use + 1) : -1]\\n\\n        #       compute error of strategies over the relevant timespan:\\n        #       This currently assumes perfect information Change!\\n\\n        history_window = np.array(\\n            history[-memory_to_use:] * strategies.shape[0]\\n        ).reshape(strategy_window.shape)\\n\\n        mean_predictions = np.mean(\\n            np.abs(history_window - strategy_window), axis=1,\\n        ).reshape(-1, 1)\\n        #         print(mean_predictions.shape)\\n        #       select strategy with minimal error:\\n        return np.argmin(mean_predictions)\\n\\n    def assign_group(self):\\n\\n        print(\\\"Hi, i am \\\" + str(self.name) + \\\"!\\\")\\n        print(str(self.should_i_attend))\\n        # groups = defaultdict(list)\\n        groupA = []\\n        groupB = []\\n        if self.should_i_attend:\\n            groupA.append(self)\\n        else:\\n            groupB.append(self)\\n        print(groupA, groupB)\\n    \\n\\nclass MyModel(Model):\\n    def __init__(self, n_agents, memory, n_strategies, threshold):\\n        super().__init__()\\n        self.schedule = RandomActivation(self)\\n\\n        self.attendance = 1\\n        for i in range(n_agents):\\n            a = MyAgent(i, self, memory, n_strategies, threshold)\\n            self.schedule.add(a)\\n        #             coords = (self.random.randrange(0, 10), self.random.randrange(0, 10))\\n        #             self.grid.place_agent(a, coords)\\n\\n        agent_reporters = {\\n            \\\"should_i_attend\\\": lambda a: getattr(a, \\\"should_i_attend\\\", None),\\n        }\\n\\n        model_reporters = {\\n            \\\"attendance\\\": lambda a: getattr(a, \\\"attendance\\\", None),\\n        }\\n\\n        self.datacollector = DataCollector(\\n            model_reporters=model_reporters, agent_reporters=agent_reporters\\n        )\\n\\n    def step(self):\\n\\n        self.attendance = np.mean(\\n            [int(a.should_i_attend) for a in model.schedule.agents]\\n        )\\n\\n        self.datacollector.collect(self)\\n        self.schedule.step()\\n\\n\\nmodel = MyModel(10, memory=30, n_strategies=2, threshold=0.5)\\n\\n\\n# Do the run:\\nfor t in tqdm.notebook.tqdm(range(1)):\\n    model.step()\";\n",
       "                var nbb_formatted_code = \"from mesa import Agent, Model\\nfrom mesa.time import RandomActivation\\nfrom mesa.space import MultiGrid\\nfrom mesa.datacollection import DataCollector\\n\\n\\nclass MyAgent(Agent):\\n    def __init__(self, name, model, memory=10, n_strategies=10, threshold=50):\\n\\n        super().__init__(name, model)\\n\\n        self.name = name\\n        self.memory = memory\\n        self.n_strategies = n_strategies\\n        self.threshold = threshold\\n\\n        self.my_strategies = np.random.rand(n_strategies, memory + 1)\\n\\n        self.should_i_attend = np.random.rand() > self.threshold  # set first attendance\\n        self.my_attendance = [self.should_i_attend]\\n\\n    # To get teams, instantiate new actor, maybe with different properties & slower updating,\\n    # and set all contributing actors to in_team (which can be false or id of team) which makes them\\n    # update according to the team decision.\\n\\n    def step(self):\\n\\n        history = list(\\n            +self.model.datacollector.get_model_vars_dataframe()[  # innefficient\\n                \\\"attendance\\\"\\n            ]\\n        )\\n        self.my_attendance.append(self.should_i_attend)\\n\\n        best_strategy = self.select_strategy(\\n            self.my_attendance, self.my_strategies, history\\n        )\\n\\n        prediction = self.my_strategies[\\n            best_strategy, -1\\n        ]  # get the prediction (last column) from the stategy that performed best.\\n\\n        self.should_i_attend = prediction < self.threshold  # strict? (<,<=,)\\n        self.my_attendance.append(self.should_i_attend)\\n\\n        # print(\\\"Hi, i am\\\" + str(self.name) + \\\"!\\\")\\n        # print(str(self.should_i_attend))\\n        # groups = defaultdict(list)\\n        # groupA = []\\n        # groupB = []\\n        # if self.should_i_attend:\\n        #    groupA.append(self)\\n        # else:\\n        #    groupB.append(self)\\n\\n        # print(groupA, groupB)\\n        self.assign_group()\\n\\n    def select_strategy(self, my_attendance, strategies, history):\\n        memory_to_use = np.min((len(history), self.memory))\\n        strategy_window = strategies[:, -(memory_to_use + 1) : -1]\\n\\n        #       compute error of strategies over the relevant timespan:\\n        #       This currently assumes perfect information Change!\\n\\n        history_window = np.array(\\n            history[-memory_to_use:] * strategies.shape[0]\\n        ).reshape(strategy_window.shape)\\n\\n        mean_predictions = np.mean(\\n            np.abs(history_window - strategy_window), axis=1,\\n        ).reshape(-1, 1)\\n        #         print(mean_predictions.shape)\\n        #       select strategy with minimal error:\\n        return np.argmin(mean_predictions)\\n\\n    def assign_group(self):\\n\\n        print(\\\"Hi, i am \\\" + str(self.name) + \\\"!\\\")\\n        print(str(self.should_i_attend))\\n        # groups = defaultdict(list)\\n        groupA = []\\n        groupB = []\\n        if self.should_i_attend:\\n            groupA.append(self)\\n        else:\\n            groupB.append(self)\\n        print(groupA, groupB)\\n\\n\\nclass MyModel(Model):\\n    def __init__(self, n_agents, memory, n_strategies, threshold):\\n        super().__init__()\\n        self.schedule = RandomActivation(self)\\n\\n        self.attendance = 1\\n        for i in range(n_agents):\\n            a = MyAgent(i, self, memory, n_strategies, threshold)\\n            self.schedule.add(a)\\n        #             coords = (self.random.randrange(0, 10), self.random.randrange(0, 10))\\n        #             self.grid.place_agent(a, coords)\\n\\n        agent_reporters = {\\n            \\\"should_i_attend\\\": lambda a: getattr(a, \\\"should_i_attend\\\", None),\\n        }\\n\\n        model_reporters = {\\n            \\\"attendance\\\": lambda a: getattr(a, \\\"attendance\\\", None),\\n        }\\n\\n        self.datacollector = DataCollector(\\n            model_reporters=model_reporters, agent_reporters=agent_reporters\\n        )\\n\\n    def step(self):\\n\\n        self.attendance = np.mean(\\n            [int(a.should_i_attend) for a in model.schedule.agents]\\n        )\\n\\n        self.datacollector.collect(self)\\n        self.schedule.step()\\n\\n\\nmodel = MyModel(10, memory=30, n_strategies=2, threshold=0.5)\\n\\n\\n# Do the run:\\nfor t in tqdm.notebook.tqdm(range(1)):\\n    model.step()\";\n",
       "                var nbb_cells = Jupyter.notebook.get_cells();\n",
       "                for (var i = 0; i < nbb_cells.length; ++i) {\n",
       "                    if (nbb_cells[i].input_prompt_number == nbb_cell_id) {\n",
       "                        if (nbb_cells[i].get_text() == nbb_unformatted_code) {\n",
       "                             nbb_cells[i].set_text(nbb_formatted_code);\n",
       "                        }\n",
       "                        break;\n",
       "                    }\n",
       "                }\n",
       "            }, 500);\n",
       "            "
      ],
      "text/plain": [
       "<IPython.core.display.Javascript object>"
      ]
     },
     "metadata": {},
     "output_type": "display_data"
    }
   ],
   "source": [
    "from mesa import Agent, Model\n",
    "from mesa.time import RandomActivation\n",
    "from mesa.space import MultiGrid\n",
    "from mesa.datacollection import DataCollector\n",
    "\n",
    "\n",
    "class MyAgent(Agent):\n",
    "    def __init__(self, name, model, memory=10, n_strategies=10, threshold=50):\n",
    "\n",
    "        super().__init__(name, model)\n",
    "\n",
    "        self.name = name\n",
    "        self.memory = memory\n",
    "        self.n_strategies = n_strategies\n",
    "        self.threshold = threshold\n",
    "\n",
    "        self.my_strategies = np.random.rand(n_strategies, memory + 1)\n",
    "\n",
    "        self.should_i_attend = np.random.rand() > self.threshold  # set first attendance\n",
    "        self.my_attendance = [self.should_i_attend]\n",
    "\n",
    "    # To get teams, instantiate new actor, maybe with different properties & slower updating,\n",
    "    # and set all contributing actors to in_team (which can be false or id of team) which makes them\n",
    "    # update according to the team decision.\n",
    "\n",
    "    def step(self):\n",
    "\n",
    "        history = list(\n",
    "            +self.model.datacollector.get_model_vars_dataframe()[  # innefficient\n",
    "                \"attendance\"\n",
    "            ]\n",
    "        )\n",
    "        self.my_attendance.append(self.should_i_attend)\n",
    "\n",
    "        best_strategy = self.select_strategy(\n",
    "            self.my_attendance, self.my_strategies, history\n",
    "        )\n",
    "\n",
    "        prediction = self.my_strategies[\n",
    "            best_strategy, -1\n",
    "        ]  # get the prediction (last column) from the stategy that performed best.\n",
    "\n",
    "        self.should_i_attend = prediction < self.threshold  # strict? (<,<=,)\n",
    "        self.my_attendance.append(self.should_i_attend)\n",
    "\n",
    "        self.assign_group()\n",
    "\n",
    "    def select_strategy(self, my_attendance, strategies, history):\n",
    "        memory_to_use = np.min((len(history), self.memory))\n",
    "        strategy_window = strategies[:, -(memory_to_use + 1) : -1]\n",
    "\n",
    "        #       compute error of strategies over the relevant timespan:\n",
    "        #       This currently assumes perfect information Change!\n",
    "\n",
    "        history_window = np.array(\n",
    "            history[-memory_to_use:] * strategies.shape[0]\n",
    "        ).reshape(strategy_window.shape)\n",
    "\n",
    "        mean_predictions = np.mean(\n",
    "            np.abs(history_window - strategy_window), axis=1,\n",
    "        ).reshape(-1, 1)\n",
    "        #         print(mean_predictions.shape)\n",
    "        #       select strategy with minimal error:\n",
    "        return np.argmin(mean_predictions)\n",
    "\n",
    "    def assign_group(self):\n",
    "\n",
    "        print(\"Hi, i am \" + str(self.name) + \"!\")\n",
    "        print(str(self.should_i_attend))\n",
    "        # groups = defaultdict(list)\n",
    "        groupA = []\n",
    "        groupB = []\n",
    "        if self.should_i_attend:\n",
    "            groupA.append(self)\n",
    "        else:\n",
    "            groupB.append(self)\n",
    "        print(groupA, groupB)\n",
    "\n",
    "\n",
    "class MyModel(Model):\n",
    "    def __init__(self, n_agents, memory, n_strategies, threshold):\n",
    "        super().__init__()\n",
    "        self.schedule = RandomActivation(self)\n",
    "\n",
    "        self.attendance = 1\n",
    "        for i in range(n_agents):\n",
    "            a = MyAgent(i, self, memory, n_strategies, threshold)\n",
    "            self.schedule.add(a)\n",
    "        #             coords = (self.random.randrange(0, 10), self.random.randrange(0, 10))\n",
    "        #             self.grid.place_agent(a, coords)\n",
    "\n",
    "        agent_reporters = {\n",
    "            \"should_i_attend\": lambda a: getattr(a, \"should_i_attend\", None),\n",
    "        }\n",
    "\n",
    "        model_reporters = {\n",
    "            \"attendance\": lambda a: getattr(a, \"attendance\", None),\n",
    "        }\n",
    "\n",
    "        self.datacollector = DataCollector(\n",
    "            model_reporters=model_reporters, agent_reporters=agent_reporters\n",
    "        )\n",
    "\n",
    "    def step(self):\n",
    "\n",
    "        self.attendance = np.mean(\n",
    "            [int(a.should_i_attend) for a in model.schedule.agents]\n",
    "        )\n",
    "\n",
    "        self.datacollector.collect(self)\n",
    "        self.schedule.step()\n",
    "\n",
    "\n",
    "model = MyModel(10, memory=30, n_strategies=2, threshold=0.5)\n",
    "\n",
    "\n",
    "# Do the run:\n",
    "for t in tqdm.notebook.tqdm(range(1)):\n",
    "    model.step()"
   ]
  },
  {
   "cell_type": "code",
   "execution_count": null,
   "metadata": {},
   "outputs": [],
   "source": [
    "model_df = model.datacollector.get_model_vars_dataframe()\n",
    "agent_df = model.datacollector.get_agent_vars_dataframe()"
   ]
  },
  {
   "cell_type": "code",
   "execution_count": null,
   "metadata": {},
   "outputs": [],
   "source": [
    "fig, ax = plt.subplots(figsize=(16, 6))\n",
    "plt.style.use(\"opinions.mplstyle\")\n",
    "plt.plot(model_df[\"attendance\"], linewidth=1.6, c=\"#ab0b00\", alpha=1)\n",
    "plt.xlabel(\"Time\")\n",
    "plt.ylabel(\"Attendence\")\n",
    "plt.title(\"Attendence in El Farol\")\n",
    "plt.ylim(0,1)\n",
    "# fig.suptitle(\"Attendence in El Farol\")\n"
   ]
  },
  {
   "cell_type": "code",
   "execution_count": null,
   "metadata": {},
   "outputs": [],
   "source": [
    "# model_df"
   ]
  },
  {
   "cell_type": "code",
   "execution_count": null,
   "metadata": {},
   "outputs": [],
   "source": []
  },
  {
   "cell_type": "code",
   "execution_count": null,
   "metadata": {},
   "outputs": [],
   "source": []
  },
  {
   "cell_type": "code",
   "execution_count": null,
   "metadata": {},
   "outputs": [],
   "source": []
  },
  {
   "cell_type": "code",
   "execution_count": null,
   "metadata": {},
   "outputs": [],
   "source": [
    "def moving_average(x, w):\n",
    "    return np.convolve(x, np.ones(w), \"valid\") / w\n",
    "\n",
    "\n",
    "fig, ax = plt.subplots(figsize=(12, 6))\n",
    "plt.style.use(\"opinions.mplstyle\")\n",
    "for agent_no in range(0, 10):\n",
    "    agent_attendance = agent_df.iloc[\n",
    "        agent_df.index.get_level_values(\"AgentID\") == agent_no\n",
    "    ][\"should_i_attend\"].astype(int)[0:200]\n",
    "\n",
    "    plt.plot(moving_average(agent_attendance, 20), alpha=0.3, c=\"grey\")"
   ]
  },
  {
   "cell_type": "code",
   "execution_count": null,
   "metadata": {},
   "outputs": [],
   "source": []
  }
 ],
 "metadata": {
  "kernelspec": {
   "display_name": "Python 3",
   "language": "python",
   "name": "python3"
  },
  "language_info": {
   "codemirror_mode": {
    "name": "ipython",
    "version": 3
   },
   "file_extension": ".py",
   "mimetype": "text/x-python",
   "name": "python",
   "nbconvert_exporter": "python",
   "pygments_lexer": "ipython3",
   "version": "3.8.8"
  },
  "varInspector": {
   "cols": {
    "lenName": 16,
    "lenType": 16,
    "lenVar": 40
   },
   "kernels_config": {
    "python": {
     "delete_cmd_postfix": "",
     "delete_cmd_prefix": "del ",
     "library": "var_list.py",
     "varRefreshCmd": "print(var_dic_list())"
    },
    "r": {
     "delete_cmd_postfix": ") ",
     "delete_cmd_prefix": "rm(",
     "library": "var_list.r",
     "varRefreshCmd": "cat(var_dic_list()) "
    }
   },
   "types_to_exclude": [
    "module",
    "function",
    "builtin_function_or_method",
    "instance",
    "_Feature"
   ],
   "window_display": false
  }
 },
 "nbformat": 4,
 "nbformat_minor": 4
}
